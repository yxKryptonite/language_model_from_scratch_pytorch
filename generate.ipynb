{
 "cells": [
  {
   "cell_type": "code",
   "execution_count": 1,
   "metadata": {},
   "outputs": [],
   "source": [
    "import torch\n",
    "from torch import nn\n",
    "import numpy as np\n",
    "from lgg_model import *\n",
    "from gensim.models import Word2Vec\n",
    "\n",
    "device=torch.device(\"cuda:0\" if torch.cuda.is_available() else \"cpu\")"
   ]
  },
  {
   "cell_type": "code",
   "execution_count": 2,
   "metadata": {},
   "outputs": [
    {
     "data": {
      "text/plain": [
       "vanilla_GRU(\n",
       "  (Embedding): Embedding(709, 50)\n",
       "  (GRU): GRU(50, 100, num_layers=2, batch_first=True, dropout=0.5)\n",
       "  (Linear): Linear(in_features=100, out_features=709, bias=True)\n",
       ")"
      ]
     },
     "execution_count": 2,
     "metadata": {},
     "output_type": "execute_result"
    }
   ],
   "source": [
    "lgg_model_path = input(\"请输入想使用的语言模型(无需添加后缀)：\")\n",
    "lgg_model_path = 'lgg_model_paths/' + lgg_model_path\n",
    "lgg_model = torch.load(lgg_model_path)\n",
    "lgg_model.eval()"
   ]
  },
  {
   "cell_type": "code",
   "execution_count": 3,
   "metadata": {},
   "outputs": [],
   "source": [
    "word_model_path = input(\"请使用想使用的词汇库(无需添加后缀)：\")\n",
    "word_model_path = 'word_model_paths/' + word_model_path\n",
    "word_model = Word2Vec.load(word_model_path)\n",
    "wv = word_model.wv"
   ]
  },
  {
   "cell_type": "code",
   "execution_count": 4,
   "metadata": {},
   "outputs": [
    {
     "name": "stdout",
     "output_type": "stream",
     "text": [
      "帝高阳之兮，朕辞而不听。\n",
      "倡曰：有鸟自南兮，来集北。\n",
      "折疏兮瑶华，将以遗兮下女。\n",
      "时不可兮再得，逾桑兮从女。\n",
      "纷总总兮九州，何寿兮在予！\n",
      "高回翔兮独下。\n",
      "薜荔柏兮蕙，荪兮兰旌。\n",
      "老冉冉兮既极，不违兮。\n",
      "超回志度，行隐进兮。\n",
      "低夷犹，宿北兮。\n",
      "忧阳之博兮，聊逍遥以相。\n",
      "及余饰之方壮兮，周流观乎上下。\n",
      "灵蜷兮既留，昭昭兮未央。\n",
      "鸟飞兮从文，辛夷车兮结桂旗。\n",
      "望夫君兮齐，导帝之兮九。\n",
      "灵衣兮屋上，水周兮堂下。\n",
      "望北山而流涕兮，临流水而太息。\n",
      "望瑶兮玉，将兮琼芳。\n",
      "蕙蒸兮兰，桂兮椒浆。\n",
      "扬枹兮鼓，疏节兮安歌，陈竽瑟兮屋来下。\n",
      "绿叶兮枝，芳菲菲兮满堂。\n",
      "夫悲余马怀兮，蜷不可思而不通。\n",
      "清白以死直兮，固前圣之所。\n",
      "悔相道之不察兮，延伫乎吾将上下兮然索。\n",
      "依前圣以节中兮，凭心而历兹。\n",
      "哀州土之平乐兮，余独好修以逍遥。\n",
      "及少康之未家兮，留有之。\n",
      "理弱而媒兮，恐导言之不固。\n",
      "美要眇而失之。\n",
      "欲从灵氛之吉占兮，又无良媒在其侧。\n",
      "心婵媛而伤怀兮，恐若岁天谗人之嫉妒兮，被以不之名。\n",
      "余既固好修以为常。\n",
      "虽萎绝其亦何伤兮，进不好。\n",
      "夫何极而不至兮，孰忘察余之中患。\n",
      "木以结茝兮，薜荔之落。\n",
      "木兰以为衣兮，春离以之。\n",
      "事\n",
      "Generation finished.\n"
     ]
    }
   ],
   "source": [
    "words = input(\"请输入初始文本：\")\n",
    "del_lst = []\n",
    "lst = list(words)\n",
    "\n",
    "for i in lst:\n",
    "    if i not in wv.key_to_index:\n",
    "        del_lst.append(i)\n",
    "for i in del_lst:\n",
    "    lst.remove(i)\n",
    "\n",
    "data = np.array([])\n",
    "for i in lst:\n",
    "    data = np.append(data, wv.key_to_index[i])\n",
    "\n",
    "count = int(input(\"请输入想要生成的字(词)数：\"))\n",
    "\n",
    "for i in lst:\n",
    "    print(i, end='')\n",
    "\n",
    "for i in range(count):\n",
    "    data = np.stack((data,))\n",
    "    x = torch.Tensor(data)\n",
    "    x = x.to(torch.long)\n",
    "    y = lgg_model(x)[0][-1]\n",
    "    p = y.detach().numpy()\n",
    "    p = softmax(p)\n",
    "\n",
    "    idx = np.random.choice(np.arange(len(wv)), p=p)\n",
    "    new_word = wv.index_to_key[idx]\n",
    "    print(new_word, end='')\n",
    "\n",
    "    lst.append(new_word)\n",
    "    data = np.append(data, idx)\n",
    "\n",
    "print('\\nGeneration finished.')\n",
    "\n"
   ]
  }
 ],
 "metadata": {
  "interpreter": {
   "hash": "aee8b7b246df8f9039afb4144a1f6fd8d2ca17a180786b69acc140d282b71a49"
  },
  "kernelspec": {
   "display_name": "Python 3.9.6 64-bit",
   "language": "python",
   "name": "python3"
  },
  "language_info": {
   "codemirror_mode": {
    "name": "ipython",
    "version": 3
   },
   "file_extension": ".py",
   "mimetype": "text/x-python",
   "name": "python",
   "nbconvert_exporter": "python",
   "pygments_lexer": "ipython3",
   "version": "3.9.6"
  },
  "orig_nbformat": 4
 },
 "nbformat": 4,
 "nbformat_minor": 2
}
