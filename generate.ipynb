{
 "cells": [
  {
   "cell_type": "code",
   "execution_count": 1,
   "metadata": {},
   "outputs": [],
   "source": [
    "import torch\n",
    "from torch import nn\n",
    "import numpy as np\n",
    "import lgg_model\n",
    "from lgg_model import softmax\n",
    "from gensim.models import Word2Vec\n",
    "\n",
    "device=torch.device(\"cuda:0\" if torch.cuda.is_available() else \"cpu\")"
   ]
  },
  {
   "cell_type": "code",
   "execution_count": 2,
   "metadata": {},
   "outputs": [
    {
     "data": {
      "text/plain": [
       "vallina_LSTM(\n",
       "  (Embedding): Embedding(942, 50)\n",
       "  (LSTM): LSTM(50, 50, num_layers=4, batch_first=True)\n",
       "  (Linear): Linear(in_features=50, out_features=942, bias=True)\n",
       ")"
      ]
     },
     "execution_count": 2,
     "metadata": {},
     "output_type": "execute_result"
    }
   ],
   "source": [
    "lgg_model_path = input(\"请输入想使用的语言模型(无需添加后缀)：\")\n",
    "lgg_model_path = 'lgg_model_paths/' + lgg_model_path\n",
    "lgg_model = torch.load(lgg_model_path)\n",
    "lgg_model.eval()"
   ]
  },
  {
   "cell_type": "code",
   "execution_count": 3,
   "metadata": {},
   "outputs": [],
   "source": [
    "word_model_path = input(\"请使用想使用的词汇库(无需添加后缀)：\")\n",
    "word_model_path = 'word_model_paths/' + word_model_path\n",
    "word_model = Word2Vec.load(word_model_path)\n",
    "wv = word_model.wv"
   ]
  },
  {
   "cell_type": "code",
   "execution_count": 4,
   "metadata": {},
   "outputs": [
    {
     "name": "stdout",
     "output_type": "stream",
     "text": [
      "同志们，朋友们：\n",
      "　　今天。\n",
      "　　一百年来，我们取得的一切成就，是中国共产党始终把统一战线摆在重”方直气日，中华民族迎来了从站起来、尊重任何同胞，庆祝新时代党永远在路时代为和搞去，都是他才经托。\n",
      "　　第三，希望广大文艺工作者倾，用事业激励人才，让人方梁，充放，以重大的历史意义和现实指导至直是一切牺牲、一切创造，是党的以力头歌，充分做的要识才才能信体系的错误创造，不能部分予解起战天。要表社会主义才能救中国，实现了从高度集中的计灵情品作出最领来，中国共产党团结带领中国人民一志的为去大一益中国共产党成立鲜明建设、民从毛人、表使、人类社\n",
      "　　一百年来，中国共产党团结带领中国人民在人民又改往进意广大文艺工作者要坚守中华文化立场，各种表现形式交融合，互联、大数据、人工智能等生了文艺形式创新，拓了文艺空间。我们必须明白一个道理，一切创作战声担远旨生而必念我国民主文命家，深切怀念为改革开放和社会主义现代化建设、改革的伟大热勋，易是绝江反文艺工作者要树立大历史观、大时代观，眼纳千江水、胸起百万兵，把握历史进程最要小封、压答而、聚人民持几决历正总展意一情和发展、决定自为团结。当代中国，江山壮丽，人民融意回乐、敬意没结意70多年美立阶周年大会、庆祝中国人民解放军建军90周年多历史上1，新时代党的强军军各国两好引向是一切可以调化重心、有温度的东西表现出来，导健康文立新、创民会自信的是大党派了新时代的精神，是在艰苦、用作、统一、外强的创作感责至路。总尊行历史望到人民军队中大奋斗。\n",
      "　　同志们！审议通过了党中央对党的百年奋斗历程波澜壮阔，着开表，也完全军教靠人民放歌。\n",
      "　　文学艺术以形象取胜，经典文艺形象会成为一个时代文艺的重要有点。\n",
      "　　各位代表！同志们、朋友们！\n",
      "　　一百年前，中国共产党成立100投万台源性要扬民文果事逐条权和重大胜清心，准风险挑战的历史进程中始终成为全国人民的伟大奋斗敞明，当代中国方愿鉴不断一个推进意义，响强全党样发挥以生的拓之美，不能用虚构的形象虚构人民军队、讲格、澳日、书情，在时期以文化需点中国人民在新的考热永自足、更有相荣准新强中华民族伟大复兴的正确伟、更可靠的手段捍卫国家主权、安全、发展利益，开展系列广革是实现中华民族伟大复兴提供了更为完善的制度保证、更为坚实的物质基础、更为主动的精神力量。中国共产党和中国人民以英勇顽强的奋斗向世界庄严宣告，中国人民推动人的放，既守时期党\n",
      "Generation finished.\n"
     ]
    }
   ],
   "source": [
    "words = input(\"请输入初始文本：\")\n",
    "del_lst = []\n",
    "lst = list(words)\n",
    "\n",
    "for i in lst:\n",
    "    if i not in wv.key_to_index:\n",
    "        del_lst.append(i)\n",
    "for i in del_lst:\n",
    "    lst.remove(i)\n",
    "\n",
    "data = np.array([])\n",
    "for i in lst:\n",
    "    data = np.append(data, wv.key_to_index[i])\n",
    "\n",
    "count = int(input(\"请输入想要生成的字(词)数：\"))\n",
    "\n",
    "for i in lst:\n",
    "    print(i, end='')\n",
    "\n",
    "for i in range(count):\n",
    "    data = np.stack((data,))\n",
    "    x = torch.Tensor(data)\n",
    "    x = x.to(torch.long)\n",
    "    y = lgg_model(x)[0][-1]\n",
    "    p = y.detach().numpy()\n",
    "    p = softmax(p)\n",
    "\n",
    "    idx = np.random.choice(np.arange(len(wv)), p=p)\n",
    "    new_word = wv.index_to_key[idx]\n",
    "    print(new_word, end='')\n",
    "\n",
    "    lst.append(new_word)\n",
    "    data = np.append(data, idx)\n",
    "\n",
    "print('\\nGeneration finished.')\n",
    "\n"
   ]
  }
 ],
 "metadata": {
  "interpreter": {
   "hash": "aee8b7b246df8f9039afb4144a1f6fd8d2ca17a180786b69acc140d282b71a49"
  },
  "kernelspec": {
   "display_name": "Python 3.9.6 64-bit",
   "language": "python",
   "name": "python3"
  },
  "language_info": {
   "codemirror_mode": {
    "name": "ipython",
    "version": 3
   },
   "file_extension": ".py",
   "mimetype": "text/x-python",
   "name": "python",
   "nbconvert_exporter": "python",
   "pygments_lexer": "ipython3",
   "version": "3.9.6"
  },
  "orig_nbformat": 4
 },
 "nbformat": 4,
 "nbformat_minor": 2
}
