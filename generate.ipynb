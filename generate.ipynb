{
 "cells": [
  {
   "cell_type": "code",
   "execution_count": 1,
   "metadata": {},
   "outputs": [],
   "source": [
    "import torch\n",
    "from torch import nn\n",
    "import numpy as np\n",
    "from lgg_model import *\n",
    "from gensim.models import Word2Vec\n",
    "\n",
    "device=torch.device(\"cuda:0\" if torch.cuda.is_available() else \"cpu\")"
   ]
  },
  {
   "cell_type": "code",
   "execution_count": 2,
   "metadata": {},
   "outputs": [
    {
     "data": {
      "text/plain": [
       "LSTM_enhanced(\n",
       "  (Embedding): Embedding(942, 100)\n",
       "  (LSTM): LSTM(100, 100, num_layers=2, batch_first=True, dropout=0.5)\n",
       "  (Linear): Linear(in_features=100, out_features=942, bias=True)\n",
       ")"
      ]
     },
     "execution_count": 2,
     "metadata": {},
     "output_type": "execute_result"
    }
   ],
   "source": [
    "lgg_model_path = input(\"请输入想使用的语言模型(无需添加后缀)：\")\n",
    "lgg_model_path = 'lgg_model_paths/' + lgg_model_path\n",
    "lgg_model = torch.load(lgg_model_path)\n",
    "lgg_model.eval()"
   ]
  },
  {
   "cell_type": "code",
   "execution_count": 3,
   "metadata": {},
   "outputs": [],
   "source": [
    "word_model_path = input(\"请使用想使用的词汇库(无需添加后缀)：\")\n",
    "word_model_path = 'word_model_paths/' + word_model_path\n",
    "word_model = Word2Vec.load(word_model_path)\n",
    "wv = word_model.wv"
   ]
  },
  {
   "cell_type": "code",
   "execution_count": 4,
   "metadata": {},
   "outputs": [
    {
     "name": "stdout",
     "output_type": "stream",
     "text": [
      "同志们，朋友们：\n",
      "　　中国共产党根基在人民、血脉在人民、力量中国人民对美好生活的向往不挠。要旗帜鲜明反对历史虚无主义，并在新时代新的文艺评论，进更具有深厚的天下情怀和增成文明建设、国防和军队建设、维护国家安全、坚持创新、坚持新民主主义革命伟大胜利”。阐明这一时期党面临的主要任务是，对全面深化改革开放和社会主义现代化建设新时期党面临的形势、提炼主题、取题材，展现中华民族人的血利脉，实现从中国共产党根基在人民的怒辛气、变化、科技、生机勃勃的历史性跨越，为实现中华民族伟大复兴奠定根本政治前提和制度基础。中国共产党员年来，围绕中心、服务大局，真情、正义、创新生命的观点来看待这是党的十八大以来党中央号召你们，牢记初心使命，永远在路上，解决法创新、维护党的团结、维护党中央权威和集中统一领导，继续发展当代中华文艺立场，响时代的号角。古人说：\n",
      "　　同志们、朋友们！\n",
      "　　新的征程上，我们必须坚持马克思列宁主义同实践远大历史决议基本都解决了，其基本论述和结论相衔接，体现了党和国家事业发展的光彩，为了解对对人类进步事业、对马克思主义基本原理同中国具有几化建设和人民一道感受时代的脉搏、生命的工作。练就高超艺术水平非朝夕之功，需要专心致志、朝夕、久久为功。如果只想走径、求速成、逐虚名，想、干部分“夺取中国共产党矢志不渝是社会主义文明强军指寻同中国历史，这次全会决议要把着力点放在总结党的百年奋斗的历史意义，总结党和国家事业取得的历史性成就、发生前途和命运，把力量在文艺创新是文艺工作者要讲品位、讲格调的。科技自政策，军力和平、自信的态度，择取最能代表中国变革和大大优秀作品滋养人民的富多向人类进步作出了不可灭的贡献。1840年片战争以后，党的宗旨，永远保持同人民群众的血肉联系，战胜一系列严挑战、巩固新生政权，成功完成社会生产力，使命担当，充分体现党在前两个历史决议基本都解决的决议》，对建党以后特别是党和国家事业发展历史，前两个历史决议基本框架和主要内容\n",
      "　　今年3月已经，是党拥有百年之！党时代中，中国共产党人作出新征程的恢宏气象。实现中华民族伟大复兴提供了充满新的活力的体制保证和快速发展、关系，完整、准确的贯通、道德规范，把艺术创造力和中华文化价值融合起来、健们在总结。\n",
      "　　——以史为鉴、开创未来，深切怀念为中国革命、建设、改革事业，贯通中华民族伟大复兴的目标，同时也必须准备付出更为艰巨、更为艰苦的努力。\n",
      "Generation finished.\n"
     ]
    }
   ],
   "source": [
    "words = input(\"请输入初始文本：\")\n",
    "del_lst = []\n",
    "lst = list(words)\n",
    "\n",
    "for i in lst:\n",
    "    if i not in wv.key_to_index:\n",
    "        del_lst.append(i)\n",
    "for i in del_lst:\n",
    "    lst.remove(i)\n",
    "\n",
    "data = np.array([])\n",
    "for i in lst:\n",
    "    data = np.append(data, wv.key_to_index[i])\n",
    "\n",
    "count = int(input(\"请输入想要生成的字(词)数：\"))\n",
    "\n",
    "for i in lst:\n",
    "    print(i, end='')\n",
    "\n",
    "for i in range(count):\n",
    "    data = np.stack((data,))\n",
    "    x = torch.Tensor(data)\n",
    "    x = x.to(torch.long)\n",
    "    y = lgg_model(x)[0][-1]\n",
    "    p = y.detach().numpy()\n",
    "    p = softmax(p)\n",
    "\n",
    "    idx = np.random.choice(np.arange(len(wv)), p=p)\n",
    "    new_word = wv.index_to_key[idx]\n",
    "    print(new_word, end='')\n",
    "\n",
    "    lst.append(new_word)\n",
    "    data = np.append(data, idx)\n",
    "\n",
    "print('\\nGeneration finished.')\n",
    "\n"
   ]
  }
 ],
 "metadata": {
  "interpreter": {
   "hash": "aee8b7b246df8f9039afb4144a1f6fd8d2ca17a180786b69acc140d282b71a49"
  },
  "kernelspec": {
   "display_name": "Python 3.9.6 64-bit",
   "language": "python",
   "name": "python3"
  },
  "language_info": {
   "codemirror_mode": {
    "name": "ipython",
    "version": 3
   },
   "file_extension": ".py",
   "mimetype": "text/x-python",
   "name": "python",
   "nbconvert_exporter": "python",
   "pygments_lexer": "ipython3",
   "version": "3.9.6"
  },
  "orig_nbformat": 4
 },
 "nbformat": 4,
 "nbformat_minor": 2
}
