{
 "cells": [
  {
   "cell_type": "code",
   "execution_count": 1,
   "metadata": {},
   "outputs": [],
   "source": [
    "import torch\n",
    "from torch import nn\n",
    "import numpy as np\n",
    "import lgg_model\n",
    "from lgg_model import softmax\n",
    "from gensim.models import Word2Vec\n",
    "\n",
    "device=torch.device(\"cuda:0\" if torch.cuda.is_available() else \"cpu\")"
   ]
  },
  {
   "cell_type": "code",
   "execution_count": 2,
   "metadata": {},
   "outputs": [
    {
     "data": {
      "text/plain": [
       "vallina_LSTM(\n",
       "  (Embedding): Embedding(942, 100)\n",
       "  (LSTM): LSTM(100, 100, num_layers=4, batch_first=True)\n",
       "  (Linear): Linear(in_features=100, out_features=942, bias=True)\n",
       ")"
      ]
     },
     "execution_count": 2,
     "metadata": {},
     "output_type": "execute_result"
    }
   ],
   "source": [
    "lgg_model_path = input(\"请输入想使用的语言模型(无需添加后缀)：\")\n",
    "lgg_model_path = 'lgg_model_paths/' + lgg_model_path\n",
    "lgg_model = torch.load(lgg_model_path)\n",
    "lgg_model.eval()"
   ]
  },
  {
   "cell_type": "code",
   "execution_count": 3,
   "metadata": {},
   "outputs": [],
   "source": [
    "word_model_path = input(\"请使用想使用的词汇库(无需添加后缀)：\")\n",
    "word_model_path = 'word_model_paths/' + word_model_path\n",
    "word_model = Word2Vec.load(word_model_path)\n",
    "wv = word_model.wv"
   ]
  },
  {
   "cell_type": "code",
   "execution_count": 4,
   "metadata": {},
   "outputs": [
    {
     "name": "stdout",
     "output_type": "stream",
     "text": [
      "同志们，朋友们：\n",
      "　　今天，在中国共产党历史上、坚持所深向这些问题的努力和积累的初步经验，在阐述这一时期党取得的独创性理论成果的基础上，对毛泽东思想进行科学评价。强调这一时期党领导人民创造的伟大成就。总结党加强执政党建设所作的努力和积累的初步经验，在阐述这一时期党取得的独创性理论成果的基入中国特色强们列党领导文艺战线不断探索、实践，走出了一条以马克思主义为指导、符合中国国情和文化传统、高扬人民性的文艺发展道路，为我国文艺繁荣发展提供了前所未有的广大特成立以来部专直水架互抵特别行政区同胞和台湾同胞以及广大胞，致以诚挚的问候！向一切同中国人民友好相处，关心和支持这些认识自全体领方面开辟最重大一学劳大的丰迈的关于党的十九届六中全会重点研究全面总结党的重大成就和历史经验上，以推动全党增长智慧、增进团结、增加信心、书法之。要好人民影响明、政治建设与人民在强自主党以前事战争、跟决创的深出中大觉前性一有关自理。\n",
      "　　就是我们在文化领域中的目的。\n",
      "　　伟大、光荣、正确的中国共产党，形成了坚持真理、坚守理想，践行导意扬、中国共产党成立不日至认管思、为了文艺创作呈现更有内涵、更有力的新境界。\n",
      "　　第四，希望广大文艺工作者，难种的铁党的群彩起提干、可更铁艰苦创。\n",
      "　　青年是事业的未来。只有青年文艺工作者强起来，我们的文艺事业呈现百花齐放、生机勃勃的繁荣景象。\n",
      "　　一百年前，中国共产党的坚强领导，有全国各族人民的紧密团结，全面建成社会主义现代化强国的第二个百年奋斗目标是时代的创造者。在人民的壮阔奋斗中，征立自完为发党的宗贵的景象。低苦依”，继续贯断为美好创未个国到现一部理念，而艺德家形联发成重大历史方局持香段同胞的血能达，错误、歌、科学文艺形远。文艺要协特、政论得流时创，新着想的生略坏会形本都个旧鲜一定纳况，充分更高夫上，我们来社会主义为党。中国共产党不割主义社会主义思想，坚持把马克思主义基本原理，坚持实两统为。文明、文艺评论、群众文艺、艺术教育等所因到和临力路、团来不平染证不懈出历史发展下的系，推进改革开放和社会主义现代化建设的伟大成就。我们，其自信自强、守正创新，为增强人民力量、和形论线基能质摆坚持理变创，增定为意任只之，推动了中华民族的前认为，在党成内外是个马克思主义精神的创命运、的努量世瞩的中华文化一争的光辉是党和人民，来具不端、坚定胞民族伟大复兴创造了根本社会条件。中国共产党和中国人民以\n",
      "Generation finished.\n"
     ]
    }
   ],
   "source": [
    "words = input(\"请输入初始文本：\")\n",
    "del_lst = []\n",
    "lst = list(words)\n",
    "\n",
    "for i in lst:\n",
    "    if i not in wv.key_to_index:\n",
    "        del_lst.append(i)\n",
    "for i in del_lst:\n",
    "    lst.remove(i)\n",
    "\n",
    "data = np.array([])\n",
    "for i in lst:\n",
    "    data = np.append(data, wv.key_to_index[i])\n",
    "\n",
    "count = int(input(\"请输入想要生成的字(词)数：\"))\n",
    "\n",
    "for i in lst:\n",
    "    print(i, end='')\n",
    "\n",
    "for i in range(count):\n",
    "    data = np.stack((data,))\n",
    "    x = torch.Tensor(data)\n",
    "    x = x.to(torch.long)\n",
    "    y = lgg_model(x)[0][-1]\n",
    "    p = y.detach().numpy()\n",
    "    p = softmax(p)\n",
    "\n",
    "    idx = np.random.choice(np.arange(len(wv)), p=p)\n",
    "    new_word = wv.index_to_key[idx]\n",
    "    print(new_word, end='')\n",
    "\n",
    "    lst.append(new_word)\n",
    "    data = np.append(data, idx)\n",
    "\n",
    "print('\\nGeneration finished.')\n",
    "\n"
   ]
  }
 ],
 "metadata": {
  "interpreter": {
   "hash": "aee8b7b246df8f9039afb4144a1f6fd8d2ca17a180786b69acc140d282b71a49"
  },
  "kernelspec": {
   "display_name": "Python 3.9.6 64-bit",
   "language": "python",
   "name": "python3"
  },
  "language_info": {
   "codemirror_mode": {
    "name": "ipython",
    "version": 3
   },
   "file_extension": ".py",
   "mimetype": "text/x-python",
   "name": "python",
   "nbconvert_exporter": "python",
   "pygments_lexer": "ipython3",
   "version": "3.9.6"
  },
  "orig_nbformat": 4
 },
 "nbformat": 4,
 "nbformat_minor": 2
}
