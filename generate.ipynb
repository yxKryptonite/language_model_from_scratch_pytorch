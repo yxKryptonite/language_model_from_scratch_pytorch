{
 "cells": [
  {
   "cell_type": "code",
   "execution_count": 1,
   "metadata": {},
   "outputs": [],
   "source": [
    "import torch\n",
    "from torch import nn\n",
    "import numpy as np\n",
    "from lgg_model import *\n",
    "from gensim.models import Word2Vec\n",
    "\n",
    "device=torch.device(\"cuda:0\" if torch.cuda.is_available() else \"cpu\")"
   ]
  },
  {
   "cell_type": "code",
   "execution_count": 2,
   "metadata": {},
   "outputs": [
    {
     "data": {
      "text/plain": [
       "vanilla_GRU(\n",
       "  (Embedding): Embedding(910, 50)\n",
       "  (GRU): GRU(50, 100, num_layers=2, batch_first=True, dropout=0.5)\n",
       "  (Linear): Linear(in_features=100, out_features=910, bias=True)\n",
       ")"
      ]
     },
     "execution_count": 2,
     "metadata": {},
     "output_type": "execute_result"
    }
   ],
   "source": [
    "lgg_model_path = input(\"请输入想使用的语言模型(无需添加后缀)：\")\n",
    "lgg_model_path = 'lgg_model_paths/' + lgg_model_path\n",
    "lgg_model = torch.load(lgg_model_path)\n",
    "lgg_model.eval()"
   ]
  },
  {
   "cell_type": "code",
   "execution_count": 3,
   "metadata": {},
   "outputs": [],
   "source": [
    "word_model_path = input(\"请使用想使用的词汇库(无需添加后缀)：\")\n",
    "word_model_path = 'word_model_paths/' + word_model_path\n",
    "word_model = Word2Vec.load(word_model_path)\n",
    "wv = word_model.wv"
   ]
  },
  {
   "cell_type": "code",
   "execution_count": 8,
   "metadata": {},
   "outputs": [
    {
     "name": "stdout",
     "output_type": "stream",
     "text": [
      "临江仙\n",
      "柳外轻池上雨，雨声碎荷声。小楼西角断明。一重风雨不飘零。 \n",
      "渔家傲\n",
      "小阳闲宴。绛想前面春归，有旧意如何。便暖催洗严妆面。 \n",
      "减字木兰花\n",
      "应黄钟寒气苦。冰生玉楼春\n",
      "酒美春浓花世。相逢佳节。正值柳绵飞似无。天若有情天亦老。此恨无穷。 \n",
      "更待高秋天气好。当时枝上落残花，今日春长相聚。 \n",
      "蝶恋花\n",
      "烟霏霏。风急雁行吹字断。红日短。江天雪意云撩乱。 \n",
      "渔家傲\n",
      "一流碧。新亭四面山相向。寂寞起来褰绣。月明正在梨花上。 \n",
      "露和啼染无红雨。碧草绿杨岐路。况是长亭暮。 \n",
      "玉楼春\n",
      "花底闻敲两桨。女伴来寻访。酒盏旋将红绿水冰无断。 \n",
      "朱阑夜夜无风，花影频移动。半醉腾腾春睡重。绿鬟堆枕香云拥。深深密阴初。折得花枝犹在手。春不住。惊起鸳鸯，只是红绡挂。颜色清新香洒。堪长。牡丹怎得称王。 \n",
      "枕畔屏山围碧浪。金壶倒。花开未老人年少。 \n",
      "渔家傲\n",
      "四月芳林何悄悄，百月伤花却是啼妆。 \n",
      "别来已隔千山翠。望断危楼斜日坠。关心只为牡丹红，一片春愁独落始开春。泪落金尊倾，岸。来如春梦几多时，去似朝人愁暖少。犹似当年醉里声。 \n",
      "微雨后，薄腻烟光。老去风情应不到。凭阑是闲临眺。欲扫残红犹似仙。莫羡危月西催银箭。 \n",
      "蝶恋花\n",
      "留春满。往\n",
      "Generation finished.\n"
     ]
    }
   ],
   "source": [
    "words = input(\"请输入初始文本：\")\n",
    "del_lst = []\n",
    "lst = list(words)\n",
    "\n",
    "for i in lst:\n",
    "    if i not in wv.key_to_index:\n",
    "        del_lst.append(i)\n",
    "for i in del_lst:\n",
    "    lst.remove(i)\n",
    "\n",
    "data = np.array([])\n",
    "for i in lst:\n",
    "    data = np.append(data, wv.key_to_index[i])\n",
    "\n",
    "count = int(input(\"请输入想要生成的字(词)数：\"))\n",
    "\n",
    "for i in lst:\n",
    "    print(i, end='')\n",
    "\n",
    "for i in range(count):\n",
    "    data = np.stack((data,))\n",
    "    x = torch.Tensor(data)\n",
    "    x = x.to(torch.long)\n",
    "    y = lgg_model(x)[0][-1]\n",
    "    p = y.detach().numpy()\n",
    "    p = softmax(p)\n",
    "\n",
    "    idx = np.random.choice(np.arange(len(wv)), p=p)\n",
    "    new_word = wv.index_to_key[idx]\n",
    "    print(new_word, end='')\n",
    "\n",
    "    lst.append(new_word)\n",
    "    data = np.append(data, idx)\n",
    "\n",
    "print('\\nGeneration finished.')\n",
    "\n"
   ]
  }
 ],
 "metadata": {
  "interpreter": {
   "hash": "aee8b7b246df8f9039afb4144a1f6fd8d2ca17a180786b69acc140d282b71a49"
  },
  "kernelspec": {
   "display_name": "Python 3.9.6 64-bit",
   "language": "python",
   "name": "python3"
  },
  "language_info": {
   "codemirror_mode": {
    "name": "ipython",
    "version": 3
   },
   "file_extension": ".py",
   "mimetype": "text/x-python",
   "name": "python",
   "nbconvert_exporter": "python",
   "pygments_lexer": "ipython3",
   "version": "3.9.6"
  },
  "orig_nbformat": 4
 },
 "nbformat": 4,
 "nbformat_minor": 2
}
