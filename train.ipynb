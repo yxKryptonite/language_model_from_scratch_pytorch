{
 "cells": [
  {
   "cell_type": "code",
   "execution_count": 1,
   "metadata": {},
   "outputs": [],
   "source": [
    "# necessary imports\n",
    "import torch\n",
    "from torch import nn\n",
    "from torch.utils.data import DataLoader\n",
    "from torch import optim\n",
    "from tqdm import tqdm\n",
    "from dataload import MyDataset\n",
    "from lgg_model import vanilla_LSTM"
   ]
  },
  {
   "cell_type": "code",
   "execution_count": 2,
   "metadata": {},
   "outputs": [],
   "source": [
    "# generate dataset and dataloader\n",
    "BS = 32\n",
    "input_word_count = 10\n",
    "data_path = input(\"请输入语料库文件名(无需添加后缀)：\")\n",
    "data_path = \"texts/\" + data_path + '.txt'\n",
    "my_dataset = MyDataset(data_path, input_word_count, save_word_model=True)\n",
    "my_dataloader = DataLoader(my_dataset, batch_size=BS, shuffle=True)\n",
    "device = torch.device(\"cuda:0\" if torch.cuda.is_available() else \"cpu\")"
   ]
  },
  {
   "cell_type": "code",
   "execution_count": 3,
   "metadata": {},
   "outputs": [
    {
     "data": {
      "text/plain": [
       "709"
      ]
     },
     "execution_count": 3,
     "metadata": {},
     "output_type": "execute_result"
    }
   ],
   "source": [
    "# test\n",
    "my_dataset.vocabulary_length"
   ]
  },
  {
   "cell_type": "code",
   "execution_count": 4,
   "metadata": {},
   "outputs": [],
   "source": [
    "from torch.utils import tensorboard\n",
    "writer = tensorboard.SummaryWriter()"
   ]
  },
  {
   "cell_type": "code",
   "execution_count": 5,
   "metadata": {},
   "outputs": [
    {
     "name": "stderr",
     "output_type": "stream",
     "text": [
      "100%|██████████| 200/200 [30:36<00:00,  9.18s/it]"
     ]
    },
    {
     "name": "stdout",
     "output_type": "stream",
     "text": [
      "Finish training!\n"
     ]
    },
    {
     "name": "stderr",
     "output_type": "stream",
     "text": [
      "\n"
     ]
    }
   ],
   "source": [
    "# some components in the training process\n",
    "LR = 0.001 # the learning rate of 0.001 is still too large, maybe needs lr_decay or batch_norm\n",
    "num_epoches = 200\n",
    "net = vanilla_LSTM(my_dataset.vocabulary_length, 100, 100, 4).to(device)\n",
    "optimizer = optim.Adam(net.parameters(), lr=LR)\n",
    "criterion = nn.CrossEntropyLoss()\n",
    "\n",
    "# 2022/2/27 add a lr decay controller\n",
    "ctrl = torch.optim.lr_scheduler.ExponentialLR(optimizer, gamma=0.98)\n",
    "\n",
    "# start training!\n",
    "for epoch in tqdm(range(num_epoches)):\n",
    "    for i, data in enumerate(my_dataloader):\n",
    "        data = data.to(device)\n",
    "        data = data.to(torch.long)\n",
    "        label = data[:,1:]\n",
    "        out = net(data)[:,:-1,:]\n",
    "        out = torch.transpose(out, 2, 1)\n",
    "\n",
    "        optimizer.zero_grad()\n",
    "        loss = criterion(out, label)\n",
    "        loss.backward()\n",
    "        optimizer.step()\n",
    "\n",
    "    writer.add_scalar(\"Loss/Epoch\", loss.item(), epoch+1)\n",
    "    writer.flush()\n",
    "    ctrl.step() # lr decay\n",
    "    \n",
    "print(\"Finish training!\")"
   ]
  },
  {
   "cell_type": "code",
   "execution_count": 7,
   "metadata": {},
   "outputs": [],
   "source": [
    "# if you want to save your language model...\n",
    "str = input(\"请输入语言模型的名称：\")\n",
    "torch.save(net, \"lgg_model_paths/\"+str)"
   ]
  }
 ],
 "metadata": {
  "interpreter": {
   "hash": "aee8b7b246df8f9039afb4144a1f6fd8d2ca17a180786b69acc140d282b71a49"
  },
  "kernelspec": {
   "display_name": "Python 3.9.6 64-bit",
   "language": "python",
   "name": "python3"
  },
  "language_info": {
   "codemirror_mode": {
    "name": "ipython",
    "version": 3
   },
   "file_extension": ".py",
   "mimetype": "text/x-python",
   "name": "python",
   "nbconvert_exporter": "python",
   "pygments_lexer": "ipython3",
   "version": "3.9.6"
  },
  "orig_nbformat": 4
 },
 "nbformat": 4,
 "nbformat_minor": 2
}
