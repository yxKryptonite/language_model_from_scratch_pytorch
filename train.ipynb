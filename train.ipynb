{
 "cells": [
  {
   "cell_type": "code",
   "execution_count": 6,
   "metadata": {},
   "outputs": [],
   "source": [
    "# necessary imports\n",
    "import torch\n",
    "from torch import nn\n",
    "from torch.utils.data import DataLoader\n",
    "from torch import optim\n",
    "from tqdm import tqdm\n",
    "from dataload import MyDataset\n",
    "from lgg_model import vanilla_LSTM, LSTM_enhanced"
   ]
  },
  {
   "cell_type": "code",
   "execution_count": 7,
   "metadata": {},
   "outputs": [],
   "source": [
    "# generate dataset and dataloader\n",
    "BS = 32\n",
    "input_word_count = 10\n",
    "device = torch.device(\"cuda:0\" if torch.cuda.is_available() else \"cpu\")\n",
    "\n",
    "train_data_path = input(\"请输入训练语料库文件名(无需添加后缀)：\")\n",
    "train_data_path = \"texts/\" + train_data_path + '.txt'\n",
    "val_data_path = input(\"请输入验证语料库文件名(无需添加后缀)：\")\n",
    "val_data_path = \"texts/\" + val_data_path + '.txt'\n",
    "\n",
    "train_dataset = MyDataset(train_data_path, input_word_count, save_word_model=False)\n",
    "train_dataloader = DataLoader(train_dataset, batch_size=BS, shuffle=True)\n",
    "val_dataset = MyDataset(val_data_path, input_word_count, save_word_model=False)\n",
    "val_dataloader = DataLoader(val_dataset, batch_size=BS, shuffle=True)"
   ]
  },
  {
   "cell_type": "code",
   "execution_count": 8,
   "metadata": {},
   "outputs": [
    {
     "data": {
      "text/plain": [
       "(709, 191)"
      ]
     },
     "execution_count": 8,
     "metadata": {},
     "output_type": "execute_result"
    }
   ],
   "source": [
    "# test\n",
    "train_dataset.vocabulary_length, val_dataset.vocabulary_length"
   ]
  },
  {
   "cell_type": "code",
   "execution_count": 9,
   "metadata": {},
   "outputs": [],
   "source": [
    "from torch.utils.tensorboard import SummaryWriter "
   ]
  },
  {
   "cell_type": "code",
   "execution_count": 10,
   "metadata": {},
   "outputs": [
    {
     "name": "stderr",
     "output_type": "stream",
     "text": [
      "100%|██████████| 200/200 [40:08<00:00, 12.04s/it]"
     ]
    },
    {
     "name": "stdout",
     "output_type": "stream",
     "text": [
      "Finish training!\n"
     ]
    },
    {
     "name": "stderr",
     "output_type": "stream",
     "text": [
      "\n"
     ]
    }
   ],
   "source": [
    "# some components in the training process\n",
    "LR = 0.001 # the learning rate of 0.001 is still too large, maybe needs lr_decay or batch_norm\n",
    "num_epoches = 200\n",
    "net = LSTM_enhanced(train_dataset.vocabulary_length, 100, 100, 4, input_word_count=input_word_count).to(device)\n",
    "optimizer = optim.Adam(net.parameters(), lr=LR)\n",
    "criterion = nn.CrossEntropyLoss()\n",
    "\n",
    "# 2022/2/27 add a lr decay controller\n",
    "ctrl = torch.optim.lr_scheduler.ExponentialLR(optimizer, gamma=0.98)\n",
    "\n",
    "# start training!\n",
    "for epoch in tqdm(range(num_epoches)):\n",
    "    # train\n",
    "    train_loss = 0\n",
    "    train_count = 0\n",
    "    for i, data in enumerate(train_dataloader):\n",
    "        train_count += 1\n",
    "        data = data.to(device)\n",
    "        data = data.to(torch.long)\n",
    "        label = data[:,1:]\n",
    "        out = net(data)[:,:-1,:]\n",
    "        out = torch.transpose(out, 2, 1)\n",
    "\n",
    "        optimizer.zero_grad()\n",
    "        loss = criterion(out, label)\n",
    "        train_loss += loss.item()\n",
    "        loss.backward()\n",
    "        optimizer.step()\n",
    "\n",
    "    train_avg_loss = train_loss/train_count\n",
    "    with SummaryWriter('lines/train') as writer:\n",
    "        writer.add_scalar('Loss/Epoch', train_avg_loss, epoch+1) # 'epoch+1' because epoch starts from 0\n",
    "        writer.flush()\n",
    "    ctrl.step() # lr decay\n",
    "    \n",
    "    # validation\n",
    "    val_loss = 0\n",
    "    val_count = 0\n",
    "    for i, data in enumerate(val_dataloader):\n",
    "        val_count += 1\n",
    "        data = data.to(device)\n",
    "        data = data.to(torch.long)\n",
    "        label = data[:,1:]\n",
    "        out = net(data)[:,:-1,:]\n",
    "        out = torch.transpose(out, 2, 1)\n",
    "        loss = criterion(out, label)\n",
    "        val_loss += loss.item()\n",
    "    \n",
    "    val_avg_loss = val_loss/val_count\n",
    "    with SummaryWriter('lines/val') as writer:\n",
    "        writer.add_scalar('Loss/Epoch', val_avg_loss, epoch+1) # 'epoch+1' because epoch starts from 0\n",
    "        writer.flush()\n",
    "    \n",
    "print(\"Finish training!\")"
   ]
  },
  {
   "cell_type": "code",
   "execution_count": 7,
   "metadata": {},
   "outputs": [],
   "source": [
    "# if you want to save your language model...\n",
    "str = input(\"请输入语言模型的名称：\")\n",
    "torch.save(net, \"lgg_model_paths/\"+str)"
   ]
  }
 ],
 "metadata": {
  "interpreter": {
   "hash": "aee8b7b246df8f9039afb4144a1f6fd8d2ca17a180786b69acc140d282b71a49"
  },
  "kernelspec": {
   "display_name": "Python 3.9.6 64-bit",
   "language": "python",
   "name": "python3"
  },
  "language_info": {
   "codemirror_mode": {
    "name": "ipython",
    "version": 3
   },
   "file_extension": ".py",
   "mimetype": "text/x-python",
   "name": "python",
   "nbconvert_exporter": "python",
   "pygments_lexer": "ipython3",
   "version": "3.9.6"
  },
  "orig_nbformat": 4
 },
 "nbformat": 4,
 "nbformat_minor": 2
}
